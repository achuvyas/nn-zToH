{
 "cells": [
  {
   "cell_type": "code",
   "execution_count": 9,
   "id": "407ac0a3",
   "metadata": {},
   "outputs": [
    {
     "data": {
      "text/plain": [
       "['emma',\n",
       " 'olivia',\n",
       " 'ava',\n",
       " 'isabella',\n",
       " 'sophia',\n",
       " 'charlotte',\n",
       " 'mia',\n",
       " 'amelia',\n",
       " 'harper',\n",
       " 'evelyn']"
      ]
     },
     "execution_count": 9,
     "metadata": {},
     "output_type": "execute_result"
    }
   ],
   "source": [
    "# E01: train a trigram language model, i.e. take two characters as an input to predict the 3rd one.\n",
    "# Feel free to use either counting or a neural net.\n",
    "# Evaluate the loss; Did it improve over a bigram model?\n",
    "\n",
    "words = open('names.txt', 'r').read().splitlines()\n",
    "words[:10]\n",
    "\n"
   ]
  },
  {
   "cell_type": "code",
   "execution_count": 10,
   "id": "515bcca2",
   "metadata": {},
   "outputs": [],
   "source": [
    "import torch"
   ]
  },
  {
   "cell_type": "code",
   "execution_count": 44,
   "id": "37288530",
   "metadata": {},
   "outputs": [],
   "source": [
    "N = torch.zeros((27,27), dtype=torch.int32)\n"
   ]
  },
  {
   "cell_type": "code",
   "execution_count": 45,
   "id": "8f96554b",
   "metadata": {},
   "outputs": [],
   "source": [
    "chars = sorted(list(set(''.join(words))))\n",
    "stoi = {s:i+1 for i,s in enumerate(chars)}\n",
    "stoi['.'] = 0\n",
    "itos = {i:s for s,i in stoi.items()}\n"
   ]
  },
  {
   "cell_type": "code",
   "execution_count": 46,
   "id": "e0ecc784",
   "metadata": {},
   "outputs": [],
   "source": [
    "\n",
    "# for w in words:\n",
    "#   chs = ['.'] + list(w) + ['.']\n",
    "#   for ch1, ch2, ch3 in zip(chs, chs[1:],chs[2:]): \n",
    "#     ix1 = stoi[ch1]\n",
    "#     ix2 = stoi[ch2]\n",
    "#     ix3 = stoi[ch3]\n",
    "#     N[ix1, ix2,ix3] += 1\n",
    "for w in words:\n",
    "  chs = ['.'] + list(w) + ['.']\n",
    "  for ch1, ch2 in zip(chs, chs[1:]):\n",
    "    ix1 = stoi[ch1]\n",
    "    ix2 = stoi[ch2]\n",
    "    N[ix1, ix2] += 1    "
   ]
  },
  {
   "cell_type": "code",
   "execution_count": 47,
   "id": "dc0a373c",
   "metadata": {},
   "outputs": [
    {
     "name": "stdout",
     "output_type": "stream",
     "text": [
      "torch.Size([27])\n",
      "tensor([0.0000, 0.1377, 0.0408, 0.0481, 0.0528, 0.0478, 0.0130, 0.0209, 0.0273,\n",
      "        0.0184, 0.0756, 0.0925, 0.0491, 0.0792, 0.0358, 0.0123, 0.0161, 0.0029,\n",
      "        0.0512, 0.0642, 0.0408, 0.0024, 0.0117, 0.0096, 0.0042, 0.0167, 0.0290])\n",
      "Sum of probabilities: tensor(1.)\n",
      "Sampled index: 3\n"
     ]
    }
   ],
   "source": [
    "p = N[0].float()\n",
    "p = p / p.sum()\n",
    "# Check the shape and values of p\n",
    "print(p.shape)\n",
    "print(p)\n",
    "\n",
    "# Calculate sum of probabilities\n",
    "sum_of_probabilities = p.sum()\n",
    "print(\"Sum of probabilities:\", sum_of_probabilities)\n",
    "\n",
    "# Ensure that probabilities sum up to a value greater than zero\n",
    "if sum_of_probabilities <= 0:\n",
    "    print(\"Error: Sum of probabilities is not greater than zero\")\n",
    "\n",
    "# Sample from the multinomial distribution\n",
    "g = torch.Generator().manual_seed(2147483647)\n",
    "ix = torch.multinomial(p, num_samples=1, replacement=False, generator=g).item()\n",
    "print(\"Sampled index:\", ix)"
   ]
  },
  {
   "cell_type": "code",
   "execution_count": 48,
   "id": "bc4cdc30",
   "metadata": {},
   "outputs": [
    {
     "data": {
      "text/plain": [
       "'c'"
      ]
     },
     "execution_count": 48,
     "metadata": {},
     "output_type": "execute_result"
    }
   ],
   "source": [
    "g = torch.Generator().manual_seed(2147483647)\n",
    "ix = torch.multinomial(p, num_samples=1, replacement=True, generator=g).item()\n",
    "itos[ix]"
   ]
  },
  {
   "cell_type": "code",
   "execution_count": null,
   "id": "233759bc",
   "metadata": {},
   "outputs": [],
   "source": []
  },
  {
   "cell_type": "code",
   "execution_count": null,
   "id": "9e54068c",
   "metadata": {},
   "outputs": [],
   "source": []
  },
  {
   "cell_type": "code",
   "execution_count": null,
   "id": "820554b1",
   "metadata": {},
   "outputs": [],
   "source": []
  }
 ],
 "metadata": {
  "kernelspec": {
   "display_name": "Python 3 (ipykernel)",
   "language": "python",
   "name": "python3"
  },
  "language_info": {
   "codemirror_mode": {
    "name": "ipython",
    "version": 3
   },
   "file_extension": ".py",
   "mimetype": "text/x-python",
   "name": "python",
   "nbconvert_exporter": "python",
   "pygments_lexer": "ipython3",
   "version": "3.11.5"
  }
 },
 "nbformat": 4,
 "nbformat_minor": 5
}
