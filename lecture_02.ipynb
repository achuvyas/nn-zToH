{
 "cells": [
  {
   "cell_type": "code",
   "execution_count": 1,
   "id": "407ac0a3",
   "metadata": {},
   "outputs": [
    {
     "data": {
      "text/plain": [
       "['emma',\n",
       " 'olivia',\n",
       " 'ava',\n",
       " 'isabella',\n",
       " 'sophia',\n",
       " 'charlotte',\n",
       " 'mia',\n",
       " 'amelia',\n",
       " 'harper',\n",
       " 'evelyn']"
      ]
     },
     "execution_count": 1,
     "metadata": {},
     "output_type": "execute_result"
    }
   ],
   "source": [
    "# E01: train a trigram language model, i.e. take two characters as an input to predict the 3rd one.\n",
    "# Feel free to use either counting or a neural net.\n",
    "# Evaluate the loss; Did it improve over a bigram model?\n",
    "\n",
    "words = open('names.txt', 'r').read().splitlines()\n",
    "words[:10]\n",
    "\n"
   ]
  },
  {
   "cell_type": "code",
   "execution_count": 2,
   "id": "515bcca2",
   "metadata": {},
   "outputs": [],
   "source": [
    "import torch"
   ]
  },
  {
   "cell_type": "code",
   "execution_count": 7,
   "id": "37288530",
   "metadata": {},
   "outputs": [],
   "source": [
    "N = torch.zeros((27,27,27), dtype=torch.int32)\n"
   ]
  },
  {
   "cell_type": "code",
   "execution_count": 8,
   "id": "8f96554b",
   "metadata": {},
   "outputs": [],
   "source": [
    "chars = sorted(list(set(''.join(words))))\n",
    "stoi = {s:i+1 for i,s in enumerate(chars)}\n",
    "stoi['.'] = 0\n",
    "itos = {i:s for s,i in stoi.items()}\n"
   ]
  },
  {
   "cell_type": "code",
   "execution_count": 54,
   "id": "e0ecc784",
   "metadata": {},
   "outputs": [],
   "source": [
    "\n",
    "for w in words:\n",
    "  chs = ['.'] + list(w) + ['.']\n",
    "  for ch1, ch2, ch3 in zip(chs, chs[1:],chs[2:]): \n",
    "    ix1 = stoi[ch1]\n",
    "    ix2 = stoi[ch2]\n",
    "    ix3 = stoi[ch3]\n",
    "    N[ix1, ix2,ix3] += 1\n",
    " "
   ]
  },
  {
   "cell_type": "code",
   "execution_count": null,
   "id": "8e2e4833",
   "metadata": {},
   "outputs": [],
   "source": []
  },
  {
   "cell_type": "code",
   "execution_count": 64,
   "id": "dc0a373c",
   "metadata": {},
   "outputs": [],
   "source": [
    "p = N.float()\n",
    "softmax = torch.nn.Softmax(dim=-1)\n",
    "P = softmax(p)\n",
    "g = torch.Generator().manual_seed(2899889987888)"
   ]
  },
  {
   "cell_type": "code",
   "execution_count": 71,
   "id": "bc4cdc30",
   "metadata": {},
   "outputs": [
    {
     "name": "stdout",
     "output_type": "stream",
     "text": [
      "sa.\n",
      "ra.\n",
      "ola.\n",
      "caria.\n",
      "bria.\n",
      "ta.\n",
      "uria.\n",
      "dan.\n",
      "quella.\n",
      ".\n",
      "caria.\n",
      "wila.\n",
      "ya.\n",
      "gra.\n",
      "kaila.\n",
      "faria.\n",
      "wila.\n",
      "sa.\n",
      "ra.\n",
      "sa.\n"
     ]
    }
   ],
   "source": [
    "\n",
    "\n",
    "# Text generation loop\n",
    "for i in range(20):\n",
    "    out = []\n",
    "    prev_chars = (0, 0)  # Initial pair of character indices\n",
    "    \n",
    "    # Text generation process\n",
    "    while True:\n",
    "        # Get the probability distribution for the next character given the previous two characters\n",
    "        p = P[prev_chars[0], prev_chars[1]]\n",
    "        \n",
    "        # Sample the next character index based on the probability distribution\n",
    "        ix = torch.multinomial(p, num_samples=1, replacement=True, generator=g).item()\n",
    "        \n",
    "        # Map the sampled index to its corresponding character\n",
    "        next_char = itos[ix]\n",
    "        \n",
    "        # Append the next character to the output sequence\n",
    "        out.append(next_char)\n",
    "        \n",
    "        # Update the previous characters for the next iteration\n",
    "        prev_chars = (prev_chars[1], ix)\n",
    "        \n",
    "        # Break if the end-of-sequence token is encountered\n",
    "        if next_char == '.':\n",
    "            break\n",
    "    \n",
    "    # Print the generated text sequence\n",
    "    print(''.join(out))\n"
   ]
  },
  {
   "cell_type": "code",
   "execution_count": null,
   "id": "233759bc",
   "metadata": {},
   "outputs": [],
   "source": []
  },
  {
   "cell_type": "code",
   "execution_count": null,
   "id": "9e54068c",
   "metadata": {},
   "outputs": [],
   "source": []
  },
  {
   "cell_type": "code",
   "execution_count": null,
   "id": "820554b1",
   "metadata": {},
   "outputs": [],
   "source": []
  }
 ],
 "metadata": {
  "kernelspec": {
   "display_name": "Python 3 (ipykernel)",
   "language": "python",
   "name": "python3"
  },
  "language_info": {
   "codemirror_mode": {
    "name": "ipython",
    "version": 3
   },
   "file_extension": ".py",
   "mimetype": "text/x-python",
   "name": "python",
   "nbconvert_exporter": "python",
   "pygments_lexer": "ipython3",
   "version": "3.11.5"
  }
 },
 "nbformat": 4,
 "nbformat_minor": 5
}
