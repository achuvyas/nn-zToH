{
 "cells": [
  {
   "cell_type": "code",
   "execution_count": 1,
   "id": "407ac0a3",
   "metadata": {},
   "outputs": [
    {
     "data": {
      "text/plain": [
       "['emma',\n",
       " 'olivia',\n",
       " 'ava',\n",
       " 'isabella',\n",
       " 'sophia',\n",
       " 'charlotte',\n",
       " 'mia',\n",
       " 'amelia',\n",
       " 'harper',\n",
       " 'evelyn']"
      ]
     },
     "execution_count": 1,
     "metadata": {},
     "output_type": "execute_result"
    }
   ],
   "source": [
    "# E01: train a trigram language model, i.e. take two characters as an input to predict the 3rd one.\n",
    "# Feel free to use either counting or a neural net.\n",
    "# Evaluate the loss; Did it improve over a bigram model?\n",
    "\n",
    "words = open('names.txt', 'r').read().splitlines()\n",
    "\n",
    "\n"
   ]
  },
  {
   "cell_type": "code",
   "execution_count": 2,
   "id": "515bcca2",
   "metadata": {},
   "outputs": [],
   "source": [
    "import torch"
   ]
  },
  {
   "cell_type": "code",
   "execution_count": 3,
   "id": "37288530",
   "metadata": {},
   "outputs": [],
   "source": [
    "N = torch.zeros((27,27,27), dtype=torch.int32)\n"
   ]
  },
  {
   "cell_type": "code",
   "execution_count": 4,
   "id": "8f96554b",
   "metadata": {},
   "outputs": [],
   "source": [
    "chars = sorted(list(set(''.join(words))))\n",
    "stoi = {s:i+1 for i,s in enumerate(chars)}\n",
    "stoi['.'] = 0\n",
    "itos = {i:s for s,i in stoi.items()}\n"
   ]
  },
  {
   "cell_type": "code",
   "execution_count": 5,
   "id": "e0ecc784",
   "metadata": {},
   "outputs": [],
   "source": [
    "\n",
    "for w in words:\n",
    "  chs = ['.'] + list(w) + ['.']\n",
    "  for ch1, ch2, ch3 in zip(chs, chs[1:],chs[2:]): \n",
    "    ix1 = stoi[ch1]\n",
    "    ix2 = stoi[ch2]\n",
    "    ix3 = stoi[ch3]\n",
    "    N[ix1, ix2,ix3] += 1\n",
    " "
   ]
  },
  {
   "cell_type": "code",
   "execution_count": null,
   "id": "8e2e4833",
   "metadata": {},
   "outputs": [],
   "source": []
  },
  {
   "cell_type": "code",
   "execution_count": 6,
   "id": "dc0a373c",
   "metadata": {},
   "outputs": [
    {
     "data": {
      "text/plain": [
       "tensor([0.1739, 0.0435, 0.0217, 0.0217, 0.0217, 0.0652, 0.0435, 0.0217, 0.0217,\n",
       "        0.1087, 0.0217, 0.0217, 0.0217, 0.0217, 0.0217, 0.0217, 0.0217, 0.0217,\n",
       "        0.0217, 0.0217, 0.0435, 0.0435, 0.0217, 0.0217, 0.0217, 0.0652, 0.0217])"
      ]
     },
     "execution_count": 6,
     "metadata": {},
     "output_type": "execute_result"
    }
   ],
   "source": [
    "\n",
    "# softmax creates better results, but the log prob becomes inf\n",
    "# p = (N+1).float()\n",
    "# softmax = torch.nn.Softmax(dim=-1)\n",
    "# P = softmax(p)\n",
    "\n",
    "\n",
    "# calculating probability with average of a 3d slice\n",
    "P = (N+1).float()\n",
    "P /= P.sum(2, keepdims=True)\n",
    "\n",
    "g = torch.Generator().manual_seed(2899889987888)\n",
    "\n",
    "P[21,6]\n"
   ]
  },
  {
   "cell_type": "code",
   "execution_count": 7,
   "id": "bc4cdc30",
   "metadata": {},
   "outputs": [
    {
     "name": "stdout",
     "output_type": "stream",
     "text": [
      "fain.\n",
      "ibergbbi.\n",
      "yus.\n",
      "qah.\n",
      "quiahrivedon.\n"
     ]
    }
   ],
   "source": [
    "\n",
    "\n",
    "# Text generation loop\n",
    "\n",
    "for i in range(5):\n",
    "    out = []\n",
    "    prev_chars = (0, 0)  # Initial pair of character indices\n",
    "    \n",
    "    # Text generation process\n",
    "    while True:\n",
    "        # Get the probability distribution for the next character given the previous two characters\n",
    "        p = P[prev_chars[0], prev_chars[1]]\n",
    "        \n",
    "        # Sample the next character index based on the probability distribution\n",
    "        ix = torch.multinomial(p, num_samples=1, replacement=True, generator=g).item()\n",
    "        \n",
    "        # Map the sampled index to its corresponding character\n",
    "        next_char = itos[ix]\n",
    "        \n",
    "        # Append the next character to the output sequence\n",
    "        out.append(next_char)\n",
    "        \n",
    "        # Update the previous characters for the next iteration\n",
    "        prev_chars = (prev_chars[1], ix)\n",
    "        \n",
    "        # Break if the end-of-sequence token is encountered\n",
    "        if next_char == '.':\n",
    "            break\n",
    "    \n",
    "    # Print the generated text sequence\n",
    "    print(''.join(out))\n"
   ]
  },
  {
   "cell_type": "code",
   "execution_count": 8,
   "id": "233759bc",
   "metadata": {},
   "outputs": [
    {
     "name": "stdout",
     "output_type": "stream",
     "text": [
      "log_likelihood=tensor(-410414.9688)\n",
      "nll=tensor(410414.9688)\n",
      "2.092747449874878\n"
     ]
    }
   ],
   "source": [
    " log_likelihood = 0.0\n",
    "n = 0\n",
    "\n",
    "for w in words:\n",
    "#for w in [\"andrejq\"]:\n",
    "  chs = ['.'] + list(w) + ['.']\n",
    "  for ch1, ch2, ch3 in zip(chs, chs[1:], chs[2:]):\n",
    "    ix1 = stoi[ch1]\n",
    "    ix2 = stoi[ch2]\n",
    "    ix3 = stoi[ch3]\n",
    "    prob = P[ix1, ix2,ix3]\n",
    "  \n",
    "        \n",
    "    # Calculate the log probability\n",
    "    logprob = torch.log(prob)\n",
    "        \n",
    "    # Add to log likelihood\n",
    "    log_likelihood += logprob\n",
    "    n += 1\n",
    "\n",
    "\n",
    "    #print(f'{ch1}{ch2}: {prob:.4f} {logprob:.4f}')\n",
    "\n",
    "print(f'{log_likelihood=}')\n",
    "nll = -log_likelihood\n",
    "print(f'{nll=}')\n",
    "print(f'{nll/n}')"
   ]
  },
  {
   "cell_type": "code",
   "execution_count": null,
   "id": "9e54068c",
   "metadata": {},
   "outputs": [],
   "source": []
  },
  {
   "cell_type": "code",
   "execution_count": 44,
   "id": "820554b1",
   "metadata": {},
   "outputs": [],
   "source": [
    "# E02: split up the dataset randomly into 80% train set, 10% dev set, 10% test set. \n",
    "#     Train the bigram and trigram models only on the training set.\n",
    "#     Evaluate them on dev and test splits. What can you see?\n",
    "\n",
    "# E01: train a trigram language model, i.e. take two characters as an input to predict the 3rd one.\n",
    "# Feel free to use either counting or a neural net.\n",
    "# Evaluate the loss; Did it improve over a bigram model?\n",
    "\n",
    "words = open('names.txt', 'r').read().splitlines()\n",
    "\n",
    "\n"
   ]
  },
  {
   "cell_type": "code",
   "execution_count": 39,
   "id": "2bd02ff3",
   "metadata": {},
   "outputs": [
    {
     "name": "stdout",
     "output_type": "stream",
     "text": [
      ". e\n",
      "e m\n",
      "m m\n",
      "m a\n",
      "a .\n"
     ]
    }
   ],
   "source": [
    "# create the training set of bigrams (x,y)\n",
    "xs, ys = [], []\n",
    "\n",
    "for w in words[:1]:\n",
    "  chs = ['.'] + list(w) + ['.']\n",
    "  for ch1, ch2 in zip(chs, chs[1:]):\n",
    "    ix1 = stoi[ch1]\n",
    "    ix2 = stoi[ch2]\n",
    "    print(ch1, ch2)\n",
    "    xs.append(ix1)\n",
    "    ys.append(ix2)\n",
    "    \n",
    "xs = torch.tensor(xs)\n",
    "ys = torch.tensor(ys)"
   ]
  },
  {
   "cell_type": "code",
   "execution_count": 40,
   "id": "b95d6f6f",
   "metadata": {},
   "outputs": [
    {
     "data": {
      "text/plain": [
       "tensor([[1., 0., 0., 0., 0., 0., 0., 0., 0., 0., 0., 0., 0., 0., 0., 0., 0., 0.,\n",
       "         0., 0., 0., 0., 0., 0., 0., 0., 0.],\n",
       "        [0., 0., 0., 0., 0., 1., 0., 0., 0., 0., 0., 0., 0., 0., 0., 0., 0., 0.,\n",
       "         0., 0., 0., 0., 0., 0., 0., 0., 0.],\n",
       "        [0., 0., 0., 0., 0., 0., 0., 0., 0., 0., 0., 0., 0., 1., 0., 0., 0., 0.,\n",
       "         0., 0., 0., 0., 0., 0., 0., 0., 0.],\n",
       "        [0., 0., 0., 0., 0., 0., 0., 0., 0., 0., 0., 0., 0., 1., 0., 0., 0., 0.,\n",
       "         0., 0., 0., 0., 0., 0., 0., 0., 0.],\n",
       "        [0., 1., 0., 0., 0., 0., 0., 0., 0., 0., 0., 0., 0., 0., 0., 0., 0., 0.,\n",
       "         0., 0., 0., 0., 0., 0., 0., 0., 0.]])"
      ]
     },
     "execution_count": 40,
     "metadata": {},
     "output_type": "execute_result"
    }
   ],
   "source": [
    "import torch.nn.functional as F\n",
    "xenc = F.one_hot(xs, num_classes=27).float()\n",
    "xenc"
   ]
  },
  {
   "cell_type": "code",
   "execution_count": 41,
   "id": "ad160053",
   "metadata": {},
   "outputs": [
    {
     "data": {
      "text/plain": [
       "torch.Size([5, 27])"
      ]
     },
     "execution_count": 41,
     "metadata": {},
     "output_type": "execute_result"
    }
   ],
   "source": [
    "xenc.shape"
   ]
  },
  {
   "cell_type": "code",
   "execution_count": 42,
   "id": "130273a4",
   "metadata": {},
   "outputs": [
    {
     "data": {
      "text/plain": [
       "torch.float32"
      ]
     },
     "execution_count": 42,
     "metadata": {},
     "output_type": "execute_result"
    }
   ],
   "source": [
    "xenc.dtype"
   ]
  },
  {
   "cell_type": "code",
   "execution_count": 43,
   "id": "379ef39d",
   "metadata": {},
   "outputs": [
    {
     "data": {
      "text/plain": [
       "tensor([[-0.8581],\n",
       "        [ 0.8704],\n",
       "        [ 0.4631],\n",
       "        [ 0.4631],\n",
       "        [ 0.4149]])"
      ]
     },
     "execution_count": 43,
     "metadata": {},
     "output_type": "execute_result"
    }
   ],
   "source": [
    "W = torch.randn((27, 1))\n",
    "xenc @ W"
   ]
  },
  {
   "cell_type": "code",
   "execution_count": null,
   "id": "fd20a1e4",
   "metadata": {},
   "outputs": [],
   "source": []
  },
  {
   "cell_type": "code",
   "execution_count": null,
   "id": "30eba119",
   "metadata": {},
   "outputs": [],
   "source": []
  }
 ],
 "metadata": {
  "kernelspec": {
   "display_name": "Python 3 (ipykernel)",
   "language": "python",
   "name": "python3"
  },
  "language_info": {
   "codemirror_mode": {
    "name": "ipython",
    "version": 3
   },
   "file_extension": ".py",
   "mimetype": "text/x-python",
   "name": "python",
   "nbconvert_exporter": "python",
   "pygments_lexer": "ipython3",
   "version": "3.11.5"
  }
 },
 "nbformat": 4,
 "nbformat_minor": 5
}
